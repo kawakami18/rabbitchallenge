{
  "nbformat": 4,
  "nbformat_minor": 0,
  "metadata": {
    "colab": {
      "name": "Untitled深層学習.ipynb",
      "provenance": [],
      "collapsed_sections": [],
      "authorship_tag": "ABX9TyPgFtn+Aq+IUXcn3pt6+X3T",
      "include_colab_link": true
    },
    "kernelspec": {
      "name": "python3",
      "display_name": "Python 3"
    },
    "language_info": {
      "name": "python"
    }
  },
  "cells": [
    {
      "cell_type": "markdown",
      "metadata": {
        "id": "view-in-github",
        "colab_type": "text"
      },
      "source": [
        "<a href=\"https://colab.research.google.com/github/kawakami18/e2021.0214/blob/main/Untitled%E6%B7%B1%E5%B1%A4%E5%AD%A6%E7%BF%92.ipynb\" target=\"_parent\"><img src=\"https://colab.research.google.com/assets/colab-badge.svg\" alt=\"Open In Colab\"/></a>"
      ]
    },
    {
      "cell_type": "markdown",
      "metadata": {
        "id": "bly2G39AIHgL"
      },
      "source": [
        "#**深層学習day1**"
      ]
    },
    {
      "cell_type": "markdown",
      "metadata": {
        "id": "ZH7W5oQJt2RR"
      },
      "source": [
        "# Section1:入力層〜中間層"
      ]
    },
    {
      "cell_type": "markdown",
      "metadata": {
        "id": "BLXkOLPQj8dx"
      },
      "source": [
        "**まとめ**"
      ]
    },
    {
      "cell_type": "markdown",
      "metadata": {
        "id": "PvAN1oABukNp"
      },
      "source": [
        "入力層はニューラルネットワークに何かしらの数字の集まりをxに入力する層になる。入力を受け取る部分をノードという。入力のx中間層の総入力のuに渡す際に、各々のxをどの程度の割合で使用するかに応じて重みのWを掛け中間層の総入力のuに渡す。各々のxの全体に対して使用の割合を調整するときは、バイアスのｂを加える。関数で表現するならば重みのｗは関数の傾きの度合いを調整し、バイアスのｂは関数の切片の度合いを調整させるため、関数は平行移動する。u=W(傾き)x+b(切片)。中間層が1つの時はニューラルネットワークと呼ばれるが、中間層が2層以上になるとディープニューラルネットワークになる。\n",
        "\n",
        "\n",
        "\n"
      ]
    },
    {
      "cell_type": "markdown",
      "metadata": {
        "id": "zJdnxjhWhmmG"
      },
      "source": [
        "**実装演習結果**"
      ]
    },
    {
      "cell_type": "code",
      "metadata": {
        "colab": {
          "base_uri": "https://localhost:8080/"
        },
        "id": "UX7JvEvCinz6",
        "outputId": "c998a069-076f-4fc8-e96f-9d40750355ba"
      },
      "source": [
        "import numpy as np\n",
        "\n",
        "def relu(u):\n",
        "    return np.maximum(0, u)\n",
        "\n",
        "W = np.array([[0, 1], [0, 2]])\n",
        "\n",
        "print(\"重み\", W)\n",
        "\n",
        "b = 0.5\n",
        "\n",
        "print(\"入力\", b)\n",
        "\n",
        "x = np.array([2, 3])\n",
        "\n",
        "print(\"入力\", x)\n",
        "\n",
        "u = np.dot(x, W) + b\n",
        "\n",
        "print(\"総入力\", u)\n",
        "\n",
        "z = relu(u)\n",
        "\n",
        "print(\"中間層出力\", z)"
      ],
      "execution_count": null,
      "outputs": [
        {
          "output_type": "stream",
          "text": [
            "重み [[0 1]\n",
            " [0 2]]\n",
            "入力 0.5\n",
            "入力 [2 3]\n",
            "総入力 [0.5 8.5]\n",
            "中間層出力 [0.5 8.5]\n"
          ],
          "name": "stdout"
        }
      ]
    },
    {
      "cell_type": "markdown",
      "metadata": {
        "id": "nii0WTQLrunC"
      },
      "source": [
        "**確認テスト**"
      ]
    },
    {
      "cell_type": "markdown",
      "metadata": {
        "id": "yxuJdK-O959c"
      },
      "source": [
        "入力層\n",
        "\n",
        "$x_1=10$ 身長\n",
        "\n",
        "$x_2=300$ 体重\n",
        "\n",
        "$x_3=300$ ひげの本数\n",
        "\n",
        "$x_4=15$ 毛の平均長\n",
        "\n",
        "$x_5=50$ 耳の大きさ\n",
        "\n",
        "$x_6=1.8$ 眉間/目鼻距離比\n",
        "\n",
        "$x7=20$ 足の長さ\n",
        "\n",
        "これら$x_1〜x_7$が入力になりWとｂで度合いを調整し次の層へ情報を伝播する"
      ]
    },
    {
      "cell_type": "markdown",
      "metadata": {
        "id": "V0YNyYew1LFK"
      },
      "source": [
        "**関連記事**"
      ]
    },
    {
      "cell_type": "markdown",
      "metadata": {
        "id": "oWX5A4Mm1aXY"
      },
      "source": [
        "・ニューラルネットワークの入力層から中間層を中継し出力層へデータが流れることを順伝播という。特に順伝播の処理だけを行うネットワークをフィードフォワードニューラルネットワークと呼ぶ。\n",
        "\n",
        "・入力層は第0層になるが、たんに信号を出力するだけなので、層にカウントされないのでゼロ層となる。そしてPythonで実装する際に入力層を0にしたほうが都合がよい。\n"
      ]
    },
    {
      "cell_type": "markdown",
      "metadata": {
        "id": "hWpSs1Sz5HGu"
      },
      "source": [
        "---"
      ]
    },
    {
      "cell_type": "markdown",
      "metadata": {
        "id": "41irqb8n5NAb"
      },
      "source": [
        "# Section2:活性化関数"
      ]
    },
    {
      "cell_type": "markdown",
      "metadata": {
        "id": "Rx0jukoZ5U3a"
      },
      "source": [
        "**まとめ**"
      ]
    },
    {
      "cell_type": "markdown",
      "metadata": {
        "id": "DDbbxnSe6rX3"
      },
      "source": [
        "活性化関数を導入することでニューラルネットワークで行える処理の幅が広がる。関数は非線形になる。非線形な関数は加法性と斉次性を満たさない。中間層用の活性化関数はReLU関数、シグモイド関数、ステップ関数などがある。出力層用の活性化関数はソフトマックス関数、恒等関数、シグモイド関数などがある。\n",
        "\n",
        "活性化関数は入力された値がWとｂで重みの度合いを調整したあとに、活性化関数を通すことでどの値を特に使うかを決定して次の層に送る。"
      ]
    },
    {
      "cell_type": "markdown",
      "metadata": {
        "id": "TfksBarKWpdG"
      },
      "source": [
        "**実装演習結果**"
      ]
    },
    {
      "cell_type": "code",
      "metadata": {
        "colab": {
          "base_uri": "https://localhost:8080/"
        },
        "id": "48U2ym9IVT_y",
        "outputId": "3b45f027-7396-4e4c-e28b-f50f6fb57940"
      },
      "source": [
        "import numpy as np\n",
        "\n",
        "def init_network():\n",
        "  network = {}\n",
        "  network['W1'] = np.array([[0.1, 0.3, 0.5], [0.2, 0.4, 0.6]])\n",
        "  network['b1'] = np.array([0.1, 0.2, 0.3])\n",
        "  network['W2'] = np.array([[0.1, 0.4], [0.2, 0.5], [0.3, 0.6]])\n",
        "  network['b2'] = np.array([0.1, 0.2])\n",
        "  network['W3'] = np.array([[0.1, 0.3], [0.2, 0.4]])\n",
        "  network['b3'] = np.array([0.1, 0.2])\n",
        "  \n",
        "  return network\n",
        "\n",
        "def forword(network, x):\n",
        "  W1, W2, W3 = network['W1'], network['W2'], network['W3']\n",
        "  b1, b2, b3 = network['b1'], network['b2'], network['b3']\n",
        "  a1 = np.dot(x, W1) + b1\n",
        "  z1 = sigmoid(a1)\n",
        "  a2 = np.dot(z1, W2) + b2\n",
        "  z2 = sigmoid(a2)\n",
        "  a3 = np.dot(z2, W3) + b3\n",
        "  y = identity_function(a3)\n",
        "  \n",
        "  return y\n",
        "\n",
        "def identity_function(x): #恒等関数\n",
        "  return x\n",
        "\n",
        "def sigmoid(x): #シグモイド関数\n",
        "  return 1 / (1 + np.exp(-x))\n",
        "\n",
        "network = init_network()\n",
        "x = np.array([1.0, 0.5]) \n",
        "y = forword(network, x)\n",
        "print(y)"
      ],
      "execution_count": null,
      "outputs": [
        {
          "output_type": "stream",
          "text": [
            "[0.31682708 0.69627909]\n"
          ],
          "name": "stdout"
        }
      ]
    },
    {
      "cell_type": "markdown",
      "metadata": {
        "id": "-bvSWTLDXcrE"
      },
      "source": [
        "**確認テスト**"
      ]
    },
    {
      "cell_type": "code",
      "metadata": {
        "colab": {
          "base_uri": "https://localhost:8080/",
          "height": 513
        },
        "id": "IhGXwVC7X3rq",
        "outputId": "115c0fc9-68de-46db-df76-72e6224b4237"
      },
      "source": [
        "import matplotlib.pyplot as plt\n",
        "import numpy as np\n",
        "import math\n",
        "\n",
        "#線形な関数\n",
        "x = np.arange(0, 10, 0.1)\n",
        "y = x * 2\n",
        "plt.plot(x, y)\n",
        "plt.show()\n",
        "\n",
        "#非線形な関数\n",
        "x = np.arange(-10, 10, 0.1)\n",
        "e = math.e\n",
        "y = 1 / (1 + e**-x)\n",
        "plt.plot(x, y)\n",
        "plt.show()"
      ],
      "execution_count": null,
      "outputs": [
        {
          "output_type": "display_data",
          "data": {
            "image/png": "[encoded data removed]",
            "text/plain": [
              "<Figure size 432x288 with 1 Axes>"
            ]
          },
          "metadata": {
            "tags": [],
            "needs_background": "light"
          }
        },
        {
          "output_type": "display_data",
          "data": {
            "image/png": "[encoded data removed]",
            "text/plain": [
              "<Figure size 432x288 with 1 Axes>"
            ]
          },
          "metadata": {
            "tags": [],
            "needs_background": "light"
          }
        }
      ]
    },
    {
      "cell_type": "markdown",
      "metadata": {
        "id": "2AISR_lIeHzY"
      },
      "source": [
        "・線形な関数は加法性、斉次性を満たすが、非線形な関数は加法性、斉次性を満たさない。\n",
        "\n",
        "・斉次性とは同次性ともいう。多項式において、すべての項が等しいときのことをいう。\n",
        "\n",
        "加法性： f(x + y) = f(x) + f(y)\n",
        "斉次性： f(kx) = kf(x)\n"
      ]
    },
    {
      "cell_type": "markdown",
      "metadata": {
        "id": "9idyhL9WgR-G"
      },
      "source": [
        "**関連記事**"
      ]
    },
    {
      "cell_type": "markdown",
      "metadata": {
        "id": "zxxXmzNzidrO"
      },
      "source": [
        "活性化関数とは、前の層のノードからの出力を次の層に伝える際に活性化関数が使われる。あらゆる入力値を別の数値に変換して出力する関数。ニューラルネットワークの隠れたニューロンに対して、非線形のモデル化能力を与えることが活性化関数の目的。"
      ]
    },
    {
      "cell_type": "markdown",
      "metadata": {
        "id": "gR0yDeYfknT1"
      },
      "source": [
        "---"
      ]
    },
    {
      "cell_type": "markdown",
      "metadata": {
        "id": "co7p1HFIvRMP"
      },
      "source": [
        "# Section3:出力層"
      ]
    },
    {
      "cell_type": "markdown",
      "metadata": {
        "id": "rW0AZhuevYf1"
      },
      "source": [
        "**まとめ**"
      ]
    },
    {
      "cell_type": "markdown",
      "metadata": {
        "id": "79g_D2pR30db"
      },
      "source": [
        "出力層の活性化関数は、回帰問題と二値分類と他クラス分類のどれを使うかによって、それぞれに適した活性化関数を使用しなければならない。それに合わせてどの誤差関数を使用するかも決まってくる。\n",
        "\n",
        "・回帰問題の活性化関数は恒等写像を使い、誤差関数は二乗誤差を用いる。\n",
        "\n",
        "・二値分類の活性化関数はシグモイド関数を使い、誤差関数は交差エントロピーを用いる。\n",
        "\n",
        "・他クラス分類の活性化関数はソフトマックス関数を使い、誤差関数は、交差エントロピーを用いる。\n",
        "\n",
        "このように問題に合った活性化関数と誤差関数のペアを間違えなえれば、あるていどの学習成果は得られる。"
      ]
    },
    {
      "cell_type": "markdown",
      "metadata": {
        "id": "lECCUXcT6Kp7"
      },
      "source": [
        "**実装演習結果**"
      ]
    },
    {
      "cell_type": "code",
      "metadata": {
        "id": "BUORJVkUeaSr",
        "colab": {
          "base_uri": "https://localhost:8080/"
        },
        "outputId": "e4c2b15a-7bbb-4777-9380-cda2f8320d7f"
      },
      "source": [
        "a = np.array([0.3, 2.9, 4.0])\n",
        "exp_a = np.exp(a) #指数関数\n",
        "print(exp_a)"
      ],
      "execution_count": null,
      "outputs": [
        {
          "output_type": "stream",
          "text": [
            "[ 1.34985881 18.17414537 54.59815003]\n"
          ],
          "name": "stdout"
        }
      ]
    },
    {
      "cell_type": "code",
      "metadata": {
        "colab": {
          "base_uri": "https://localhost:8080/"
        },
        "id": "e5n2YMZW7Ldq",
        "outputId": "f452eb59-69c5-4112-c90c-5c0764d39fc3"
      },
      "source": [
        "sum_exp_a = np.sum(exp_a) #指数関数の和\n",
        "print(sum_exp_a)"
      ],
      "execution_count": null,
      "outputs": [
        {
          "output_type": "stream",
          "text": [
            "74.1221542101633\n"
          ],
          "name": "stdout"
        }
      ]
    },
    {
      "cell_type": "code",
      "metadata": {
        "colab": {
          "base_uri": "https://localhost:8080/"
        },
        "id": "MUCIcet57dW2",
        "outputId": "710114c0-8612-4a71-eba6-febccc309a06"
      },
      "source": [
        "y = exp_a / sum_exp_a\n",
        "print(y)"
      ],
      "execution_count": null,
      "outputs": [
        {
          "output_type": "stream",
          "text": [
            "[0.01821127 0.24519181 0.73659691]\n"
          ],
          "name": "stdout"
        }
      ]
    },
    {
      "cell_type": "code",
      "metadata": {
        "id": "TjrCRLeD7uay"
      },
      "source": [
        "#ソフトマックス関数\n",
        "def softmax(a):\n",
        "    exp_a = np.exp(a)\n",
        "    sum_exp_a = np.sum(exp_a)\n",
        "    y = exp_a / sum_exp_a\n",
        "    return y"
      ],
      "execution_count": null,
      "outputs": []
    },
    {
      "cell_type": "markdown",
      "metadata": {
        "id": "ZjKQ9uZY9CJM"
      },
      "source": [
        "**確認テスト**"
      ]
    },
    {
      "cell_type": "markdown",
      "metadata": {
        "id": "3oHpqOFa9HG6"
      },
      "source": [
        "誤差関数について\n",
        "\n",
        "二乗する理由は、引き算を行うだけでは、各ラベルでの誤差で正負両方の値が発生し、全体の誤差を正しく表すのに都合が悪い。二乗してそれぞれのラベルでの誤差を性になるようにするため。要するに誤差和を足し合わせるとゼロになってしまうので、それを避けるため。\n",
        "\n",
        "1/2する理由は、実際にネットワークを学習する時に行う誤差伝播の計算で、誤差関数の微分を用いるが、その際の計算式を簡単にするため。本質的な意味はない。要するに微分をする際、式の後ろの乗数の2が前に来た時に1/2と打ち消し合って式がスッキリする。\n",
        "\n",
        "\n"
      ]
    },
    {
      "cell_type": "markdown",
      "metadata": {
        "id": "ATpcMshxE_3E"
      },
      "source": [
        "**関連記事**"
      ]
    },
    {
      "cell_type": "markdown",
      "metadata": {
        "id": "CHtJRFpAIe5-"
      },
      "source": [
        "出力層のニューロンの数は、解くべき問題に応じて、適宜決める必要がある。回帰分析では実数値が出力され、分類問題では出力層のニューロンの数は分類したいクラス数に設定するのが一般的で、確率の集合が出力される。"
      ]
    },
    {
      "cell_type": "markdown",
      "metadata": {
        "id": "3FNgJDv2JMwX"
      },
      "source": [
        "---"
      ]
    },
    {
      "cell_type": "markdown",
      "metadata": {
        "id": "FO45xppydHnl"
      },
      "source": [
        "# Section4:勾配降下法"
      ]
    },
    {
      "cell_type": "markdown",
      "metadata": {
        "id": "lEm1GTSdxPwp"
      },
      "source": [
        "**まとめ**"
      ]
    },
    {
      "cell_type": "markdown",
      "metadata": {
        "id": "k11Un_MHdetc"
      },
      "source": [
        "勾配降下法には3つの手法、勾配降下法、確率的勾配降下法、ミニバッチ勾配降下法がありニューラルネットワークを学習させる手法のことをいう。誤差関数を最小にするW（重み)やｂ(バイアス)を見つけることが勾配効果法の目的。\n",
        "\n",
        "勾配降下法\n",
        "\n",
        "$W^{(t+1)} = W^{t} - \\varepsilon \\nabla E$\n",
        "\n",
        "$\\nabla E = \\frac{\\partial E}{\\partial W} = \\bigl[\\frac{\\partial E}{\\partial w_1} \\cdots \\frac{\\partial E}{\\partial w_M} \\bigl]$\n",
        "\n",
        "$\\varepsilon$:学習率\n",
        "\n",
        "学習率が大きすぎる場合、最小値にいつまでもたどり着かずに発散してしまう。要は最小値を大きく通り越してしまっている現象がおきている。また、学習率が小さすぎる場合には発散はしないが、収束するまでに時間が掛かるし、極小値におさまってしまう。\n",
        "\n",
        "学習率の制御をより良くするために改良されたアルゴリズムに、Momentum AdaGrad Adadelta Adam がある。非常によく使用されるのはアダムである。"
      ]
    },
    {
      "cell_type": "markdown",
      "metadata": {
        "id": "LMvqhGBZdRGe"
      },
      "source": [
        "**実装演習結果**"
      ]
    },
    {
      "cell_type": "code",
      "metadata": {
        "id": "H1J9Nc-CJNuY"
      },
      "source": [
        "#勾配降下法\n",
        "def gradient_descent(f, init_x, lr=0.01, step_num=100):\n",
        "    x = init_x\n",
        "\n",
        "    for i in range(step_num):\n",
        "        grad = numerical_gradient(f, x)\n",
        "        x -= lr * grad\n",
        "    return x    "
      ],
      "execution_count": null,
      "outputs": []
    },
    {
      "cell_type": "markdown",
      "metadata": {
        "id": "dWfxIW1i0WMY"
      },
      "source": [
        "**確認テスト**"
      ]
    },
    {
      "cell_type": "code",
      "metadata": {
        "colab": {
          "base_uri": "https://localhost:8080/",
          "height": 69
        },
        "id": "aEanpf2N640V",
        "outputId": "5e15c41e-1534-4fc3-a623-7e8ec8eed9d7"
      },
      "source": [
        "\"\"\"\n",
        "learning_rate = 0.07\n",
        "epoch = 1000\n",
        "network = init_network()\n",
        "random_datasets = np.random.choice(data_sets, epoch)\n",
        "for dataset in random_dataset:\n",
        "    x, d = dataset['x'], dataset['d']\n",
        "    z1. y = forward(network, x)\n",
        "    grad = backward(x, d, z1, y)\n",
        "    for key in ('W1', 'W2', 'b1', 'b2'):\n",
        "        network[key] -= learning_rate * grad[key]\n",
        "    loss = functions.mean_spuared_error(d, y)\n",
        "    losses.append(loss)\n",
        "lists = range(epoch)\n",
        "plt.plot(lists, losses, ' . ')\n",
        "plt.show()            \n",
        "\"\"\""
      ],
      "execution_count": null,
      "outputs": [
        {
          "output_type": "execute_result",
          "data": {
            "application/vnd.google.colaboratory.intrinsic+json": {
              "type": "string"
            },
            "text/plain": [
              "\"\\nlearning_rate = 0.07\\nepoch = 1000\\nnetwork = init_network()\\nrandom_datasets = np.random.choice(data_sets, epoch)\\nfor dataset in random_dataset:\\n    x, d = dataset['x'], dataset['d']\\n    z1. y = forward(network, x)\\n    grad = backward(x, d, z1, y)\\n    for key in ('W1', 'W2', 'b1', 'b2'):\\n        network[key] -= learning_rate * grad[key]\\n    loss = functions.mean_spuared_error(d, y)\\n    losses.append(loss)\\nlists = range(epoch)\\nplt.plot(lists, losses, ' . ')\\nplt.show()            \\n\""
            ]
          },
          "metadata": {
            "tags": []
          },
          "execution_count": 12
        }
      ]
    },
    {
      "cell_type": "markdown",
      "metadata": {
        "id": "RVt5iyn3B4R3"
      },
      "source": [
        "**関連記事**"
      ]
    },
    {
      "cell_type": "markdown",
      "metadata": {
        "id": "sKKiXG_FD4fL"
      },
      "source": [
        "学習率の値は0.01や0.001など、前もって何らかの値に決める必要がある(ハイパーパラメータ)。ニューラルネットワークの学習においては、学習率の値を変更しながら、正しく学習ができているかどうか、確認作業をするのが一般的。"
      ]
    },
    {
      "cell_type": "markdown",
      "metadata": {
        "id": "RvLqQDv6Edtj"
      },
      "source": [
        "---"
      ]
    },
    {
      "cell_type": "markdown",
      "metadata": {
        "id": "fsAk5xdAEill"
      },
      "source": [
        "# Section5:誤差逆伝播法"
      ]
    },
    {
      "cell_type": "markdown",
      "metadata": {
        "id": "DMmbWF4jEx4d"
      },
      "source": [
        "**まとめ**"
      ]
    },
    {
      "cell_type": "markdown",
      "metadata": {
        "id": "SAV7tJ6jE0q7"
      },
      "source": [
        "誤差逆伝播法\n",
        "\n",
        "算出された誤差を、出力層側から順に微分し、前の方の層へと伝播させる。最小限の計算で各パラメータでの微分値を解析的に計算する手法。\n",
        "\n",
        "数値微分\n",
        "\n",
        "プログラムで微小な数値を生成し疑似的に微分を計算する一般的な手法。計算結果の誤差から微分を逆計算することで、不要な再帰的計算を避けて微分を算出できる。"
      ]
    },
    {
      "cell_type": "markdown",
      "metadata": {
        "id": "zjCxJsGC7ebQ"
      },
      "source": [
        "**実装演習結果**"
      ]
    },
    {
      "cell_type": "code",
      "metadata": {
        "id": "NiePm-HlEfE4",
        "colab": {
          "base_uri": "https://localhost:8080/"
        },
        "outputId": "8bb7c30a-d44f-46e9-fad0-bb6fc6df0c17"
      },
      "source": [
        "import numpy as np\n",
        "e2_1 = 0.8\n",
        "e2_2 = 0.5\n",
        "w2_11 = 2.0\n",
        "w2_21 = 1.0\n",
        "w2_12 = 3.0\n",
        "w2_22 = 4.0\n",
        "e3 = np.array([e2_1, e2_2])\n",
        "e2 = np.array([[w2_11 / (w2_11 + w2_12), w2_21 / (w2_21 + w2_22)], \n",
        "                [w2_12 / (w2_11 + w2_12), w2_22 / (w2_21 + w2_22)]])\n",
        "print(np.dot(e2, e3))"
      ],
      "execution_count": null,
      "outputs": [
        {
          "output_type": "stream",
          "text": [
            "[0.42 0.88]\n"
          ],
          "name": "stdout"
        }
      ]
    },
    {
      "cell_type": "markdown",
      "metadata": {
        "id": "Rl7BCUt99ZvW"
      },
      "source": [
        "**確認テスト**"
      ]
    },
    {
      "cell_type": "markdown",
      "metadata": {
        "id": "GffxeFxI-gTa"
      },
      "source": [
        "delta2 = funcions.d_mean_spuared_error(d, y) \n",
        "\n",
        "delta1 = np.dot(delta2, W2. T) * functions. d_sigmoid(z1)\n",
        "\n",
        "delta1 = delta1[np.newaxis, :]\n",
        "\n"
      ]
    },
    {
      "cell_type": "markdown",
      "metadata": {
        "id": "TUCv47EOA2wh"
      },
      "source": [
        "**関連記事**"
      ]
    },
    {
      "cell_type": "markdown",
      "metadata": {
        "id": "DliyVz14A-Qc"
      },
      "source": [
        "ニューラルネットワークにおける代表的なパラメータ探索手法が、勾配降下法である。勾配降下法では、目的関数を各パラメータで偏微分した値が必要となるが、この偏微分値を効率よく求めていく方法が(ア)である。(ア)の根幹の数学的技術が微分の連鎖律であり、例えばg(f(x))に対して連鎖率を適用すると、gのｘによる偏微分が($\\frac{\\partial g}{\\partial f} \\frac{\\partial f}{\\partial x}$)で与えられている。この連鎖率を用いて、出力層から入力層まで正解との誤差を伝えていく。\n",
        "\n",
        "(ア)・・・バックプロパゲーション"
      ]
    },
    {
      "cell_type": "markdown",
      "metadata": {
        "id": "M-hv_XdAH5fc"
      },
      "source": [
        "---"
      ]
    },
    {
      "cell_type": "markdown",
      "metadata": {
        "id": "uq5HqGScIu8B"
      },
      "source": [
        "# **深層学習day2**"
      ]
    },
    {
      "cell_type": "markdown",
      "metadata": {
        "id": "CGAPI1UkI2xB"
      },
      "source": [
        "# Section1:勾配消失問題"
      ]
    },
    {
      "cell_type": "markdown",
      "metadata": {
        "id": "DYYKibkPJFhz"
      },
      "source": [
        "**まとめ**"
      ]
    },
    {
      "cell_type": "markdown",
      "metadata": {
        "id": "Dh1SwPQcTcZQ"
      },
      "source": [
        "勾配消失問題とは、誤差逆伝播法が下位層に進んでいくにつれて、勾配がどんどん緩やかになっていく。そのため、勾配降下法による、更新では下位層のパラメータはほとんど変わらず、訓練は最適解に収束しなくなる。主な原因はシグモイド関数の微分値が最大で0.25であるため、微分同士を掛け合わせる数が多くなるほど0に近づいていくからである。勾配消失問題の解決方法は3つあり、活性化関数の選択、重みの初期設定、バッチ正規化を工夫することである。\n"
      ]
    },
    {
      "cell_type": "markdown",
      "metadata": {
        "id": "Vgig38uwYSoH"
      },
      "source": [
        "**実装演習結果**"
      ]
    },
    {
      "cell_type": "code",
      "metadata": {
        "colab": {
          "base_uri": "https://localhost:8080/",
          "height": 265
        },
        "id": "CDUxPO7hZ0JA",
        "outputId": "296bfc11-f5c4-4dff-c772-57eb4b7eade6"
      },
      "source": [
        "import matplotlib.pyplot as plt\n",
        "import numpy as np\n",
        "\n",
        "def sigmoid(x):\n",
        "    return 1 / (1 + np.exp(-x))\n",
        "x = np.linspace(-10, 10)\n",
        "y = sigmoid(x)\n",
        "plt.plot(x, y)\n",
        "dy = (1 - sigmoid(x)) * sigmoid(x)\n",
        "plt.plot(x, dy)\n",
        "plt.show()"
      ],
      "execution_count": null,
      "outputs": [
        {
          "output_type": "display_data",
          "data": {
            "image/png": "[encoded data removed]",
            "text/plain": [
              "<Figure size 432x288 with 1 Axes>"
            ]
          },
          "metadata": {
            "tags": [],
            "needs_background": "light"
          }
        }
      ]
    },
    {
      "cell_type": "markdown",
      "metadata": {
        "id": "YVigyf9OU28g"
      },
      "source": [
        "**確認テスト**"
      ]
    },
    {
      "cell_type": "markdown",
      "metadata": {
        "id": "4Uu5pwjYVCi6"
      },
      "source": [
        "Q、シグモイド関数を微分したとき、入力値が0のとき最大値をとる。その値として正しい値はいくつか。\n",
        "\n",
        "A、0.25"
      ]
    },
    {
      "cell_type": "markdown",
      "metadata": {
        "id": "FWK5SMd_aG_S"
      },
      "source": [
        "**関連記事**"
      ]
    },
    {
      "cell_type": "markdown",
      "metadata": {
        "id": "9n63PHscaq-S"
      },
      "source": [
        "誤差逆伝播において、出力層から入力層に向かって誤差を伝播させる際、活性化関数の導関数を乗算していく必要がある。そのためネットワークの層が多くなるにつれて、入力層に伝わる誤差の値が非常に小さくなる。このことを(ア)という。特にシグモイド関数を活性化関数とした場合には、微分値が最大でも0.25となるため、この問題がより顕著に生じる。そこで提案されたのがReLUと呼ばれる活性化かんすうであり、(max(0,x))で表現される。ReLUは、微分値の最大が1であるため、シグモイド関数に比べて勾配消失が起こりにくい。このため、近年の層の深いニューラルネットワークではシグモイド関数に代わって頻繁に用いられている。\n",
        "\n",
        "(ア)・・・勾配消失"
      ]
    },
    {
      "cell_type": "markdown",
      "metadata": {
        "id": "sRpQlutIbaTz"
      },
      "source": [
        "---"
      ]
    },
    {
      "cell_type": "markdown",
      "metadata": {
        "id": "ZD8djP-sbcHd"
      },
      "source": [
        "# Section2:学習率最適化手法"
      ]
    },
    {
      "cell_type": "markdown",
      "metadata": {
        "id": "C_M1wIP3ecyc"
      },
      "source": [
        "**まとめ**"
      ]
    },
    {
      "cell_type": "markdown",
      "metadata": {
        "id": "7YYuXZffjSx1"
      },
      "source": [
        "初期の学習率設定方法の指針\n",
        "\n",
        "・初期の学習率を大きく設定し、徐々に学習率を小さくしていく\n",
        "\n",
        "・パラメータごとに学習率を可変させる。\n",
        "\n",
        "これらを学習率最適化手法を利用して学習率を最適化させる。"
      ]
    },
    {
      "cell_type": "markdown",
      "metadata": {
        "id": "RL3JCV4DenrZ"
      },
      "source": [
        "モメンタムのメリット\n",
        "\n",
        "・局所的最適解にならず。大域的最適解となる。\n",
        "\n",
        "・谷間についてから最も低い位置(最適値)に行くまでの時間が早い。\n",
        "\n",
        "AdaGradのメリット\n",
        "\n",
        "・勾配が緩やかな斜面に対して、最適解に近づける。\n",
        "\n",
        "・(課題)学習率が徐々に小さくなるので、鞍点問題を引き起こすことがあった。\n",
        "\n",
        "RMSPropのメリット\n",
        "\n",
        "・局所最適解にはならず、大域的最適解となる。\n",
        "\n",
        "・ハイパーパラメータの調整が必要な場合が少ない。\n",
        "\n",
        "Adamとは\n",
        "・モメンタムの過去の勾配の指数関数的減衰平均\n",
        "・RMSPropの、過去の勾配の2乗の指数関数的減衰平均\n",
        "これらをそれぞれ孕んだ最適化アルゴリズムである。\n",
        "\n",
        "Adamのメリット\n",
        "・モメンタム及びRMSPropのメリットを孕んだアルゴリズム。\n",
        "\n",
        "\n"
      ]
    },
    {
      "cell_type": "markdown",
      "metadata": {
        "id": "klte1s7PnD8u"
      },
      "source": [
        "**実装演習結果**"
      ]
    },
    {
      "cell_type": "code",
      "metadata": {
        "id": "EE0aUCJLV7--"
      },
      "source": [
        "\"\"\"\n",
        "#AdaGrad\n",
        "class AdaGrad:\n",
        "\n",
        "    def __init__(self, lr=0.01):\n",
        "        self.lr = lr\n",
        "        self.h = None\n",
        "        \n",
        "    def update(self, params, grads):\n",
        "        if self.h is None:\n",
        "            self.h = {}\n",
        "            for key, val in params.items():\n",
        "                self.h[key] = np.zeros_like(val)\n",
        "            \n",
        "        for key in params.keys():\n",
        "            self.h[key] += grads[key] * grads[key]\n",
        "            params[key] -= self.lr * grads[key] / (np.sqrt(self.h[key]) + 1e-7)"
      ],
      "execution_count": null,
      "outputs": []
    },
    {
      "cell_type": "markdown",
      "metadata": {
        "id": "ApUDFj48tcVB"
      },
      "source": [
        "**考察結果**"
      ]
    },
    {
      "cell_type": "markdown",
      "metadata": {
        "id": "Oc-TBCh35pfg"
      },
      "source": [
        "結局、どの最適化手法を使えばよいのか比較してみなければわからないという。現在でも新しい最適化手法がどんどん出てきていて、どの手法がベストとは言い切れないよう。実際、いろいろな記事を読んでも使っている最適化手法はバラバラである。 最適化手法のメリット、デメリットを知り、モデルに合った最適化手法を選ばねばならないことは確かなことである。"
      ]
    },
    {
      "cell_type": "markdown",
      "metadata": {
        "id": "b4sVdgGl-aWY"
      },
      "source": [
        "**参考記事**"
      ]
    },
    {
      "cell_type": "markdown",
      "metadata": {
        "id": "CmxAIyCS-dPq"
      },
      "source": [
        "Q、ドロップアウトはニューラルネットワークの過剰適合を抑える手法として提案された。そのドロップアウトとはどういうものか記述せよ。\n",
        "\n",
        "A、訓練時、ユニットをランダムに消去しながらパラメータの最適化を行う。ユニットを消去する割合は定数として与える。"
      ]
    },
    {
      "cell_type": "markdown",
      "metadata": {
        "id": "QAaDGeNz_VRZ"
      },
      "source": [
        "---"
      ]
    },
    {
      "cell_type": "markdown",
      "metadata": {
        "id": "P44EFtZW_Zbe"
      },
      "source": [
        "# Section3:過学習"
      ]
    },
    {
      "cell_type": "markdown",
      "metadata": {
        "id": "yAoJtz1z_hcv"
      },
      "source": [
        "**まとめ**"
      ]
    },
    {
      "cell_type": "markdown",
      "metadata": {
        "id": "iR6dOzWLymgK"
      },
      "source": [
        "過学習の原因は重みが大きい値をとることで、過学習が発生することがある。学習をさせていくと、重みにばらつきが発生する。重みが大きい値は、学習において重要な値であり、重みが大きいと過学習を起こす。\n",
        "\n",
        "過学習の解決策として、誤差に対して正則化を加算することで自由度を抑制し、重みを減らす。過学習がおこりそうな重みの大きさ以下で重みをコントロールし、かつ重みの大きさにばらつきを出す必要がある。"
      ]
    },
    {
      "cell_type": "markdown",
      "metadata": {
        "id": "swPL_pD7_iJG"
      },
      "source": [
        "**実装演習結果**"
      ]
    },
    {
      "cell_type": "code",
      "metadata": {
        "id": "8-_vlWNTvdzu"
      },
      "source": [
        "#Dropout\n",
        "class Dropout:\n",
        "    def __init__(self, dropout_ratio=0.5):\n",
        "        self.dropout_retio = dropout_ratio\n",
        "        self.mask = None\n",
        "\n",
        "    def forward(self, x, train_fig=True):\n",
        "        if train_flg:\n",
        "            self.mask = np.random.rand(*x.shape)  > self.dropout_ratio\n",
        "            return x * self.mask\n",
        "        else:\n",
        "            return x * (1.0 - self.dropout_ratio)\n",
        "    def backward(self, dout):\n",
        "        return dout * self.mask               "
      ],
      "execution_count": null,
      "outputs": []
    },
    {
      "cell_type": "markdown",
      "metadata": {
        "id": "8ULgV31E4YZO"
      },
      "source": [
        "**確認テスト**"
      ]
    },
    {
      "cell_type": "markdown",
      "metadata": {
        "id": "ijlHIxJc7GID"
      },
      "source": [
        "Q、L1正則化を表しているグラフは左右どちらか\n",
        "\n",
        "A、右のグラフ\n",
        "\n",
        "L1正則化はマンハッタン距離をる。特定のデータの重みを0にする事で、不要なデータを削除する。\n",
        "\n",
        "L2正則化はユークリッド距離を取る。データの大きさに応じて0に近づけて、滑らかなモデルとする。"
      ]
    },
    {
      "cell_type": "markdown",
      "metadata": {
        "id": "Xgt4pVsG8xN5"
      },
      "source": [
        "**演習問題**"
      ]
    },
    {
      "cell_type": "markdown",
      "metadata": {
        "id": "bSkmrxMe838s"
      },
      "source": [
        "深層学習において、過学習の抑制・汎化性能の向上のために正則化が用いられる。そのひとつに、L2ノルム正則化(Ridge,Weigh,Decay)がある。以下はL2ノルム正則化を適用した場合に、パラメータの更新を行うプログラムである。あるパラメータparamと正則化がないときにそのパラメータに伝播される誤差の勾配gradが与えられたとする。さて、最終的な勾配を計算する(え)にあてはまるものはどれか。だたしrateはL2ノルム正則化の係数を表すとする。\n",
        "\n",
        "def ridge(param, grad, rate):\n",
        "    \n",
        "    \"\"\"\n",
        "\n",
        "    param: target parameter\n",
        "    \n",
        "    grad: gradients to param\n",
        "    \n",
        "    rate: ridge coefficient\n",
        "    \n",
        "    \"\"\"\n",
        "    \n",
        "    grad += rate * (あ)\n",
        "\n",
        " (あ)・・・param\n",
        "\n"
      ]
    },
    {
      "cell_type": "markdown",
      "metadata": {
        "id": "CzW-1WmOxSNw"
      },
      "source": [
        "---"
      ]
    },
    {
      "cell_type": "markdown",
      "metadata": {
        "id": "KCbKa-zmxUdb"
      },
      "source": [
        "# Section4:畳み込みニューラルネットワークの概念"
      ]
    },
    {
      "cell_type": "markdown",
      "metadata": {
        "id": "ZduSgj-UxgIY"
      },
      "source": [
        "**まとめ**"
      ]
    },
    {
      "cell_type": "markdown",
      "metadata": {
        "id": "AVT9BCTHxj2o"
      },
      "source": [
        "CNNでは次元間で繋がりのあるデータを扱える。1次元の単一チャネルでは音声データ、2次元ではフーリエ変換した音声データ(時刻、周波数、強度)、3次元ではCTスキャン画像(ｘ、y、ｚ、強度)。複数チャネルの1次元ではアニメのスケルトン、カラー画像、動画などである。\n",
        "\n",
        "畳み込み層では、画像の場合、縦、横、チャンネルの3次元のデータをそのまま学習し、次に伝えることができる。結論として、3次元の空間情報も学習できるような層が畳み込み層である。\n",
        "\n",
        "全結合層のデメリットは、画像の場合、縦、横、チャンネルの3次元のデータだが、1次元のデータとして処理される。結果として、RGBの各チャンネル間の関連性が、学習に反映されないということになる。\n",
        "\n"
      ]
    },
    {
      "cell_type": "markdown",
      "metadata": {
        "id": "Ib_ZpVAbNoPu"
      },
      "source": [
        "**実装演習結果**"
      ]
    },
    {
      "cell_type": "code",
      "metadata": {
        "id": "PIGfclx63D2z"
      },
      "source": [
        "import numpy as np\n",
        "\n",
        "def im2col(input_data, filter_h, filter_w, stride, pad, constant_values=0):\n",
        "    \"\"\"\n",
        "    input_data : (データ数, チャンネル数, 高さ, 幅)の4次元配列\n",
        "    filter_h : フィルタの高さ\n",
        "    filter_w : フィルタの幅\n",
        "    stride : ストライドサイズ\n",
        "    pad : パディングサイズ\n",
        "    constant_values : パディング処理で埋める際の値\n",
        "    \"\"\"\n",
        "\n",
        "    # 入力データのデータの数、 チャンネル数、 高さ、 幅を取得\n",
        "    N, C, H, W = input_data.shape\n",
        "\n",
        "    # 出力データの高さ(端数は切り捨てる)\n",
        "    out_h = (H + 2 * pad - filter_h) // stride + 1\n",
        "\n",
        "    # 出力データの幅(端数は切り捨てる)\n",
        "    out_w = (W + 2 * pad - filter_w) // stride + 1\n",
        "\n",
        "    # パディング\n",
        "    img = np.pad(input_data,\n",
        "                 (0, 0), (0, 0), (pad, pad), (pad, pad), \n",
        "                 \"constant\", \n",
        "                 constant_values=constant_values,)\n",
        "    # 配列の初期化\n",
        "    col = np.zeros((N, C, filter_h, filter_w, out_h, out_w))\n",
        "\n",
        "    # フィルタ内のある1要素に対応する画像中の画素を取り出してcolに代入\n",
        "    for y in range(filter_h):\n",
        "        y_max = y + stride * out_h\n",
        "        for x in range(filter_w):\n",
        "            x_max = x + stride * out_w\n",
        "            col[:, :, y, x, :, :] = img[:, :, y:y_max:stride, x:x_max:stride]\n",
        "\n",
        "    # 軸を入れ替えて、2次元配列(行列)に変換する\n",
        "    col = col.transpose(0, 4, 5, 1, 2, 3).reshape(N * out_h * out_w, -1)\n",
        "\n",
        "    return col\n",
        "\n",
        "def maxpooling_forward(x, pad, stride, pool_h, pool_w):\n",
        "    \"\"\"\n",
        "    x : 入力データ, 配列形状 = (データ数, チャンネル数, 高さ, 幅)\n",
        "    pad : パディングサイズ\n",
        "    stride : ストライドサイズ\n",
        "    pool_h : プーリング領域の縦\n",
        "    pool_w : プーリング領域の横\n",
        "    \"\"\"\n",
        "\n",
        "    N, C, H, W = x.shape\n",
        "\n",
        "    # 出力の高さ(端数は切り捨てる)\n",
        "    out_h = (H + 2 * pad - pool_h) // stride + 1\n",
        "\n",
        "    # 出力の幅(端数は切り捨てる)\n",
        "    out_w = (W + 2 * pad - pool_w) // stride + 1\n",
        "\n",
        "    # 2次元配列に変換する\n",
        "    col = im2col(x, pool_h, pool_w, stride, pad)\n",
        "\n",
        "    # チャンネル方向のデータが横に並んでいるので、縦に並び替える\n",
        "    col = col.reshape(-1, pool_h * pool_w)\n",
        "\n",
        "    # 最大値のインデックス(逆伝播時に使用)を求める\n",
        "    out_idx = np.argmax(col, axis=1)\n",
        "\n",
        "    # 最大値を求める\n",
        "    out = np.max(col, axis=1)\n",
        "\n",
        "    # 画像形式に戻して、チャンネルの軸を2番めに移動させる\n",
        "    out = out,reshape(N, out_h, out_w, C).transpose(0, 3, 1, 2)\n",
        "\n",
        "    return out_idx, out\n",
        "\n",
        "def convolution_forward(x, W, b, pad, stride):\n",
        "    \"\"\"\n",
        "    x : 入力データ, 配列形状 = (データ数, チャンネル数, 高さ, 幅)\n",
        "    W : フィルタ, 配列形状 = (出力チャンネル数, 入力チャンネル数, 高さ, 幅)\n",
        "    b : バイアス\n",
        "    pad : パディングサイズ\n",
        "    stride : ストライドサイズ\n",
        "    \"\"\"\n",
        "    FN, C, FH, FW = W.shape\n",
        "    N, C, H, W = x.shape\n",
        "\n",
        "    # 出力の高さ(端数は切り捨てる)\n",
        "    out_h = (H + 2 * pad - FN) // stride + 1\n",
        "\n",
        "    # 出力の幅(端数は切り捨てる)\n",
        "    out_w = (W + 2 * pad - FW) // stride + 1\n",
        "\n",
        "    # 畳み込み演算を効率に行えるようにするため、入力ｘを行列colに変換する\n",
        "    col = im2col(x, FH, FW, stride, pad)\n",
        "\n",
        "    # フィルタを2次元配列に変換する\n",
        "    col_W = W.reshape(FN, -1).T\n",
        "\n",
        "    # 行列の積を計算し。バイアスを足す\n",
        "    out = np.dot(col, col_W) + b\n",
        "    \n",
        "    # 画像形式に戻して、チャンネルの軸を2番めに移動させる\n",
        "    out = out.reshape(N, out_h, out_w, -1).transpose(0, 3, 1, 2)\n",
        "\n",
        "    return out\n"
      ],
      "execution_count": null,
      "outputs": []
    },
    {
      "cell_type": "markdown",
      "metadata": {
        "id": "IKCbHpXhdeMT"
      },
      "source": [
        "**確認テスト**"
      ]
    },
    {
      "cell_type": "markdown",
      "metadata": {
        "id": "mqHJ-9Q_d24a"
      },
      "source": [
        "Q、サイズ6＊6の入力画像を、サイズ2＊2のフィルタで畳み込みを行ったときの出力画像のサイズを求めよ。なお、ストライドとパディングは1とする。\n",
        "\n",
        "公式\n",
        "\n",
        "OH 出力画像の高さ = (画像の高さ ＋ 2 ＊ パディングの高さ − フィルターの高さ) / ストライド + 1\n",
        "\n",
        "OW 出力画像の幅 = (画像の幅 ＋ 2 ＊ パディングの幅 − フィルターの幅) / ストライド + 1\n",
        "\n",
        "= {(6 + 2) * 1 - 2 / 1} + 1\n",
        "\n",
        "= 7\n",
        "\n",
        "\n",
        "\n",
        "\n"
      ]
    },
    {
      "cell_type": "markdown",
      "metadata": {
        "id": "kmPr0P_PhmfT"
      },
      "source": [
        "**関連記事**"
      ]
    },
    {
      "cell_type": "markdown",
      "metadata": {
        "id": "EJJzMaM5hrsF"
      },
      "source": [
        "Q、高速な物体検出モデルとしては、入力画像を複数の少領域に分割し、各少領域ごとにクラス分類とバウンディングボックスの位置や大きさなどの回帰を行う(ア)や、大きさの異なる複数の特徴マップを使ってクラス分類やバウンディングボックス回帰を行う(イ)がある\n",
        "\n",
        "(ア)・・・YOLO\n",
        "\n",
        "(イ)・・・SSD"
      ]
    },
    {
      "cell_type": "markdown",
      "metadata": {
        "id": "-KTyZVF8ju2F"
      },
      "source": [
        "---"
      ]
    },
    {
      "cell_type": "markdown",
      "metadata": {
        "id": "_8Aiog-ijxJX"
      },
      "source": [
        "# Section5:最新のCNN"
      ]
    },
    {
      "cell_type": "markdown",
      "metadata": {
        "id": "fFDoaZOBj7H6"
      },
      "source": [
        "**まとめ**"
      ]
    },
    {
      "cell_type": "markdown",
      "metadata": {
        "id": "Oikq0qGlkTN9"
      },
      "source": [
        "初期頃のニューラルネットワークであるAlexNetモデルの構造は、5層の畳み込み層及びプーリング層など、それに続く3層の全結合層から構成されている。過学習を防ぐ施策として、サイズ4096の全結合層の出力にドロップアウトを使用している。\n"
      ]
    },
    {
      "cell_type": "markdown",
      "metadata": {
        "id": "PDbgPGUGElMT"
      },
      "source": [
        "**サマリー**"
      ]
    },
    {
      "cell_type": "markdown",
      "metadata": {
        "id": "WwpZEBaeErRi"
      },
      "source": [
        "LeNetからAlexNetで変わったこと\n",
        "\n",
        "・活性化関数にReLUを用いる。\n",
        "\n",
        "・LRN(Local Response Normalization) という局所的正規化を行う層を用いる\n",
        "\n",
        "・Dropoutを使用する。\n",
        "\n",
        "環境やコンピュータ技術の進展によってCNNのネットワーク構造も変化していく。\n",
        "\n"
      ]
    },
    {
      "cell_type": "markdown",
      "metadata": {
        "id": "zZpWZS-CHKGL"
      },
      "source": [
        "**確認テスト**"
      ]
    },
    {
      "cell_type": "markdown",
      "metadata": {
        "id": "LZ48Dm8KD47z"
      },
      "source": [
        "画像認識分野においては、畳込みニューラルネットワーク(Convolutional Neural Network, CNN)が非常に顕著な成果を出している。畳み込み層とプーリング層を交互に繰り返すのが、CNNの基本的な構造である。(ア)は入力の小さな移動に対して不変な表現を作るのに役立つ。移動に対する不変性とは、入力を水平または垂直方向に多少変化させても出力にはほとんど変化がないという性質である。これが、手書き文字認識といった画像中の厳密な位置ではなく、画像中にどのような文字があるのかに関心がある場合に有用となる。\n",
        "\n",
        "(ア)・・・畳み込み層とプーリング層\n",
        "\n",
        "\n"
      ]
    },
    {
      "cell_type": "markdown",
      "metadata": {
        "id": "kEYWJB3rF9Az"
      },
      "source": [
        "**関連記事** "
      ]
    },
    {
      "cell_type": "markdown",
      "metadata": {
        "id": "zgZv4ivvGAJS"
      },
      "source": [
        "(あ)とは、畳み込みの対象となる領域をベクトル化し、それを並べた行列を作成する処理を指す。これにより、本来ループ処理によって実装される畳み込みをNumpyの行列積によって実装することが可能となる。\n",
        "\n",
        "(あ)・・・im2col (image to columns)"
      ]
    },
    {
      "cell_type": "markdown",
      "metadata": {
        "id": "hRObYe6BIgev"
      },
      "source": [
        "---"
      ]
    },
    {
      "cell_type": "code",
      "metadata": {
        "id": "vWlntzzmbl1P"
      },
      "source": [
        ""
      ],
      "execution_count": null,
      "outputs": []
    }
  ]
}